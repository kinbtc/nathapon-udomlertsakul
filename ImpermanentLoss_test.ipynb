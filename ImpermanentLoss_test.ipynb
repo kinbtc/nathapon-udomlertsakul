{
  "nbformat": 4,
  "nbformat_minor": 0,
  "metadata": {
    "colab": {
      "provenance": [],
      "authorship_tag": "ABX9TyMFgbQqFjD5pHQ1t0XSoAGv",
      "include_colab_link": true
    },
    "kernelspec": {
      "name": "python3",
      "display_name": "Python 3"
    },
    "language_info": {
      "name": "python"
    }
  },
  "cells": [
    {
      "cell_type": "markdown",
      "metadata": {
        "id": "view-in-github",
        "colab_type": "text"
      },
      "source": [
        "<a href=\"https://colab.research.google.com/github/kinbtc/nathapon-udomlertsakul/blob/main/ImpermanentLoss_test.ipynb\" target=\"_parent\"><img src=\"https://colab.research.google.com/assets/colab-badge.svg\" alt=\"Open In Colab\"/></a>"
      ]
    },
    {
      "cell_type": "markdown",
      "source": [
        "### Simulate trade where the reserve remain unchanged"
      ],
      "metadata": {
        "id": "bQ4tGWYaGArT"
      }
    },
    {
      "cell_type": "code",
      "execution_count": null,
      "metadata": {
        "id": "MMBkJUijFrox"
      },
      "outputs": [],
      "source": [
        "import numpy as np\n",
        "import pandas as pd\n",
        "import matplotlib.pyplot as plt\n",
        "\n",
        "R_0 = [1000000,1000000]\n",
        "R_d =[0,0]\n",
        "gamma_fee = 0.999\n",
        "\n",
        "def price(R_0):\n",
        "    return R_0[1]/R_0[0]\n",
        "\n",
        "def plain_swap(x,R_0):\n",
        "    return (x*R_0[1])/(x+R_0[0])\n",
        "\n",
        "def swap_fee1(x,R_0):\n",
        "    return [(gamma_fee*x*R_0[1])/(gamma_fee*x+R_0[0]),(1-gamma_fee)*x]\n",
        "\n",
        "def swap_fee2(x,R_0):\n",
        "    # get swap_fee1(x,R_0)[0], but the trade liquidity lose (x*R_0[1])/(x+R_0[0])\n",
        "    return [swap_fee1(x,R_0)[0],plain_swap(x,R_0) -swap_fee1(x,R_0)[0]]\n",
        "\n",
        "def new_reserve(R,tender,received):\n",
        "  R[0] = R[0] + tender\n",
        "  R[1] = R[1] - received\n",
        "  return R\n",
        "\n",
        "\n",
        "#test volumn $1,000 back and forth without changing trading reserve.\n",
        "def Init_trade_test_asset0fee(tender_basket,R_0,trade_num):\n",
        "    for i in range(trade_num):\n",
        "        y = swap_fee1(tender_basket,R_0)\n",
        "        R_d[0] += y[1]\n",
        "        R_0 = new_reserve(R_0,gamma_fee*tender_basket,y[0]) #y[0]=receive\n",
        "        x = swap_fee2(y[0],R_0[::-1])\n",
        "        R_d[0] +=  x[1]\n",
        "        R_0 = new_reserve(R_0,-(x[0]+x[1]),-y[0]) #y[0]=tender\n",
        "    return [R_0,R_d]\n",
        "\n",
        "\n",
        "\n",
        "\n"
      ]
    },
    {
      "cell_type": "markdown",
      "source": [
        "### Price function is increasing function."
      ],
      "metadata": {
        "id": "Rx0tHTTAGKqT"
      }
    },
    {
      "cell_type": "code",
      "source": [
        "import numpy as np\n",
        "import pandas as pd\n",
        "import matplotlib.pyplot as plt\n",
        "\n",
        "R_0 = [1000000,1000000]\n",
        "R_d =[0,0]\n",
        "Binance_price = 1 # R[1]/R[0]=1.2 price of asset1 in unit of asset2 = |2|/|1|\n",
        "\n",
        "def root(y,f):\n",
        "  epsilon=1e-5\n",
        "  iteration = 0\n",
        "  a = -1\n",
        "  b = 1000000\n",
        "  while (b - a) / 2 > epsilon and iteration < 100:\n",
        "    c = (a + b) / 2  # Midpoint\n",
        "    if f(c)-y == 0:    # We've found the root\n",
        "        return c\n",
        "    elif (f(a)-y) * (f(c)-y) < 0:\n",
        "        b = c\n",
        "    else:\n",
        "        a = c\n",
        "    iteration += 1\n",
        "  return (a + b) / 2\n",
        "\n",
        "def price_after_swap(x): #increasing function (asset2 -> asset1)\n",
        "  trade = swap_fee2(x,R_0[::-1])\n",
        "  R_new = [0,0]\n",
        "  R_new[0] = R_0[0] - trade[0]\n",
        "  R_new[1] = R_0[1] + x\n",
        "  price = R_new[1]/R_new[0]\n",
        "  R_new = [0,0]\n",
        "  return price\n",
        "\n",
        "\n",
        "# Result = Init_trade_test_asset0fee(10000,R_0,10000)\n",
        "# # Big Arb makes the price in CFMM = price in Binance\n",
        "# Arb = root(Binance_price,price_after_swap)\n",
        "# print(\"price in  pool after swap= \",price_after_swap(Arb))\n",
        "# R_0 = [1000000,1000000]\n",
        "# output = swap_fee2(Arb,R_0[::-1])\n",
        "# Result[1][0] += output[1]\n",
        "# print(\"Dual pool after the many normal trade = \" ,Result)\n",
        "# R_1 = [new_reserve(R_0,-output[0],-Arb),Result[1]]\n",
        "# print(\"Dual pool after arb = \",R_1)\n",
        "\n",
        "# Deposit = (1000000*2)*0.0001\n",
        "# Withdraw1 = (R_1[0][0]*2+R_1[1][0])*0.0001  # value of assets in pool is the same\n",
        "# Withdraw2 = (R_1[0][1]*2+swap_fee1(R_1[1][0],R_1[0])[0])*0.0001  # value of assets in pool is the same\n",
        "\n",
        "# print(\"*************************************************************\")\n",
        "# print(\"Only fee in asset0 is collected\")\n",
        "# print(\"Deposit asset0 = \", Deposit , \",Withdraw asset0 = \" ,Withdraw1)\n",
        "# print(\"Deposit asset1 = \", Deposit , \",Withdraw asset1 = \" ,Withdraw2)\n",
        "# print(\"*************************************************************\")\n",
        "\n",
        "\n",
        "\n"
      ],
      "metadata": {
        "id": "fVEn8_iSGR3L"
      },
      "execution_count": null,
      "outputs": []
    },
    {
      "cell_type": "markdown",
      "source": [
        "### Graph of impermanent loss"
      ],
      "metadata": {
        "id": "zn7bNeH4L5dy"
      }
    },
    {
      "cell_type": "code",
      "source": [
        "\n",
        "def Impermanent_loss (Price):\n",
        "  R_0 = [1000000,1000000]\n",
        "  R_d = [0,0]\n",
        "  Result = Init_trade_test_asset0fee(1000,R_0,100000)\n",
        "  # Big Arb makes the price in CFMM = price in Binance\n",
        "  Arb = [root(p,price_after_swap) for p in Price]\n",
        "  output = [swap_fee2(a,R_0[::-1]) for a in Arb]\n",
        "\n",
        "  # Adjust Result for each output\n",
        "  Result_list = []\n",
        "  for out in output:\n",
        "    temp_result = Result.copy()  # Create a copy of Result\n",
        "    temp_result[1][0] += out[1]\n",
        "    Result_list.append(temp_result)\n",
        "\n",
        "  # Calculate R_1 for each Result\n",
        "  R_1_list = []\n",
        "  for i, out in enumerate(output):\n",
        "    R_1_list.append([new_reserve(R_0.copy(),-out[0],-Arb[i]),Result_list[i][1]])\n",
        "\n",
        "  # Calculate Withdraw1 and Withdraw2 for each R_1\n",
        "  Deposit = (1000000*2)*0.0001\n",
        "  Withdraw1_list = [(r[0][0]*2+r[1][0])*0.0001 for r in R_1_list]\n",
        "  Withdraw2_list = [(r[0][1]*2+swap_fee1(r[1][0],r[0])[0])*0.0001 for r in R_1_list]\n",
        "\n",
        "  return [Withdraw1_list,Withdraw2_list]\n",
        "\n",
        "  # R_0 = [1000000,1000000]\n",
        "  # output = swap_fee2(Arb,R_0[::-1])\n",
        "  # Result[1][0] += output[1]\n",
        "  # R_1 = [new_reserve(R_0,-output[0],-Arb),Result[1]]\n",
        "  # Deposit = (1000000*2)*0.0001\n",
        "  # Withdraw1 = (R_1[0][0]*2+R_1[1][0])*0.0001  # value of assets in pool is the same\n",
        "  # Withdraw2 = (R_1[0][1]*2+swap_fee1(R_1[1][0],R_1[0])[0])*0.0001  # value of assets in pool is the same\n",
        "  # return [Withdraw1,Withdraw2]\n",
        "\n",
        "# x = np.linspace(1, 1.5, 100)\n",
        "# plt.plot(x,Impermanent_loss(x))\n",
        "# plt.show()\n",
        "x = np.linspace(1, 2, 100)\n",
        "# Plot both Withdraw1 and Withdraw2 against x\n",
        "result = Impermanent_loss(x)\n",
        "plt.plot(x, result[0], label='Withdraw')\n",
        "plt.plot(x,[(1000000*2)*0.0001]*len(x),label='Deposit')\n",
        "# plt.plot(x, result[1], label='Withdraw2')\n",
        "plt.legend()\n",
        "plt.show()"
      ],
      "metadata": {
        "id": "IyFpN3T2I3GM",
        "colab": {
          "base_uri": "https://localhost:8080/",
          "height": 430
        },
        "outputId": "fb8e1776-b114-451b-b231-5436529b9715"
      },
      "execution_count": null,
      "outputs": [
        {
          "output_type": "display_data",
          "data": {
            "text/plain": [
              "<Figure size 640x480 with 1 Axes>"
            ],
            "image/png": "[encoded data removed]"
          },
          "metadata": {}
        }
      ]
    },
    {
      "cell_type": "markdown",
      "source": [
        "#### Traditional case"
      ],
      "metadata": {
        "id": "PiiJB4Nv6kap"
      }
    },
    {
      "cell_type": "code",
      "source": [
        "#test volumn $1,000 back and forth with changing trading reserve.\n",
        "R_0 =[1000000,1000000]\n",
        "def Init_traditional_trade(tender_basket,R_0,trade_num):\n",
        "    for i in range(trade_num):\n",
        "        y = swap_fee1(tender_basket,R_0)\n",
        "        R_0 = new_reserve(R_0,tender_basket,y[0]) #y[0]=receive\n",
        "        x = swap_fee1(y[0],R_0[::-1])\n",
        "        R_d[0] +=  x[1]\n",
        "        R_0 = new_reserve(R_0,-x[0],-y[0]) #y[0]=tender\n",
        "    return [R_0]\n",
        "\n",
        "def Impermanent_loss_traditional (Price):\n",
        "  R_0 = [1000000,1000000]\n",
        "  Result = Init_traditional_trade(1000,R_0,100000)\n",
        "\n",
        "  # Big Arb makes the price in CFMM = price in Binance\n",
        "  Arb = [root(p,price_after_swap) for p in Price]\n",
        "  output = [swap_fee1(a,R_0[::-1]) for a in Arb]\n",
        "\n",
        "  # Adjust Result for each output\n",
        "  Result_list = []\n",
        "  for out in output:\n",
        "    temp_result = Result.copy()  # Create a copy of Result\n",
        "    temp_result[0] += out[1]\n",
        "    Result_list.append(temp_result)\n",
        "\n",
        "  # Calculate R_1 for each Result\n",
        "  R_1_list = []\n",
        "  for i, out in enumerate(output):\n",
        "    R_1_list.append([new_reserve(R_0.copy(),-out[0],-Arb[i]),Result_list[i][1]])\n",
        "\n",
        "  # Calculate Withdraw1 and Withdraw2 for each R_1\n",
        "  Deposit = (1000000*2)*0.0001\n",
        "  Withdraw1_list = [(r[0][0]*2+r[1][0])*0.0001 for r in R_1_list]\n",
        "  Withdraw2_list = [(r[0][1]*2+swap_fee1(r[1][0],r[0])[0])*0.0001 for r in R_1_list]\n",
        "\n",
        "  return [Withdraw1_list,Withdraw2_list]\n",
        "  # R_0 = [1000000,1000000]\n",
        "  # output = swap_fee2(Arb,R_0[::-1])\n",
        "  # Result[1][0] += output[1]\n",
        "\n",
        "  # R_1 = [new_reserve(R_0,-output[0],-Arb),Result[1]]\n",
        "\n",
        "\n",
        "  # Deposit = (1000000*2)*0.0001\n",
        "  # Withdraw1 = (R_1[0][0]*2+R_1[1][0])*0.0001  # value of assets in pool is the same\n",
        "  # Withdraw2 = (R_1[0][1]*2+swap_fee1(R_1[1][0],R_1[0])[0])*0.0001  # value of assets in pool is the same\n",
        "  # return [Withdraw1,Withdraw2]\n",
        "\n",
        "# x = np.linspace(1, 1.5, 100)\n",
        "# plt.plot(x,Impermanent_loss(x))\n",
        "# plt.show()\n",
        "x = np.linspace(1, 2, 100)\n",
        "# Plot both Withdraw1 and Withdraw2 against x\n",
        "result = Impermanent_loss(x)\n",
        "plt.plot(x, result[0], label='Withdraw')\n",
        "plt.plot(x,[(1000000*2)*0.0001]*len(x),label='Deposit')\n",
        "# plt.plot(x, result[1], label='Withdraw2')\n",
        "plt.legend()\n",
        "plt.show()"
      ],
      "metadata": {
        "colab": {
          "base_uri": "https://localhost:8080/",
          "height": 430
        },
        "id": "1OJAoJ6w6oYM",
        "outputId": "6a945a6f-ce20-4451-8ee4-bd0310b93182"
      },
      "execution_count": null,
      "outputs": [
        {
          "output_type": "display_data",
          "data": {
            "text/plain": [
              "<Figure size 640x480 with 1 Axes>"
            ],
            "image/png": "[encoded data removed]"
          },
          "metadata": {}
        }
      ]
    },
    {
      "cell_type": "code",
      "source": [],
      "metadata": {
        "id": "OSl_ySUG8uqs"
      },
      "execution_count": null,
      "outputs": []
    }
  ]
}